{
 "cells": [
  {
   "cell_type": "markdown",
   "source": [
    "# Basic Dataset demo"
   ],
   "metadata": {
    "collapsed": false
   }
  },
  {
   "cell_type": "markdown",
   "source": [
    "## Imports"
   ],
   "metadata": {
    "collapsed": false
   }
  },
  {
   "cell_type": "code",
   "execution_count": 26,
   "metadata": {
    "collapsed": true,
    "ExecuteTime": {
     "start_time": "2023-04-25T10:47:21.572731Z",
     "end_time": "2023-04-25T10:47:21.594234Z"
    }
   },
   "outputs": [],
   "source": [
    "import os\n",
    "import torch\n",
    "from data.data_handler import (\n",
    "    read_in_data,\n",
    "    create_simple_encoder_decoder,\n",
    "    tensor_to_string,\n",
    ")\n",
    "from data.dummy_file_generators import save_data_as_txt\n",
    "from my_models.bigram import BigramModel\n",
    "import matplotlib.pyplot as plt"
   ]
  },
  {
   "cell_type": "markdown",
   "source": [
    "# Load dummy dataset"
   ],
   "metadata": {
    "collapsed": false
   }
  },
  {
   "cell_type": "code",
   "execution_count": 27,
   "outputs": [
    {
     "name": "stdout",
     "output_type": "stream",
     "text": [
      "Corpus has 5 unique letter(s), 0 unique numbers(s) and 2 unique punctuation(s)\n",
      "Corpus has 7 unique characters.\n"
     ]
    }
   ],
   "source": [
    "# First we read in the data\n",
    "char_dict, data = read_in_data(\"data/basic_data/basic_data_1000.txt\")"
   ],
   "metadata": {
    "collapsed": false,
    "ExecuteTime": {
     "start_time": "2023-04-25T10:47:21.583623Z",
     "end_time": "2023-04-25T10:47:21.610285Z"
    }
   }
  },
  {
   "cell_type": "markdown",
   "source": [
    "Characters are 'abcde\\n '\n",
    "\n",
    "Rule 1 whenever c is chosen, the next character must be d or b\n",
    "Rule 2 whenever e is chosen, the next character must be a new line\n",
    "Rule 3 whenever a is chosen, the next character cannot be a new line\n",
    "Rule 4 first character in a line cannot be new line or space"
   ],
   "metadata": {
    "collapsed": false
   }
  },
  {
   "cell_type": "markdown",
   "source": [
    "# Create Encoder/Decoder"
   ],
   "metadata": {
    "collapsed": false
   }
  },
  {
   "cell_type": "code",
   "execution_count": 28,
   "outputs": [],
   "source": [
    "# Create the encoder and decoder dictionaries and the encode and decode functions\n",
    "encoder_dict, decoder_dict, encode, decode = create_simple_encoder_decoder(char_dict)"
   ],
   "metadata": {
    "collapsed": false,
    "ExecuteTime": {
     "start_time": "2023-04-25T10:47:21.590979Z",
     "end_time": "2023-04-25T10:47:21.652058Z"
    }
   }
  },
  {
   "cell_type": "markdown",
   "source": [
    "# Train, Validation, Test Split"
   ],
   "metadata": {
    "collapsed": false
   }
  },
  {
   "cell_type": "code",
   "execution_count": 29,
   "outputs": [],
   "source": [
    "# Create training data/test split\n",
    "if not os.path.exists(\"data/basic_data/train_data.txt\"):\n",
    "    # Load the data into torch tensor\n",
    "    data = torch.tensor(encode(data), dtype=torch.long)\n",
    "    # Apply the decode function to the data when converted to a list\n",
    "    decoded_data = decode(data.tolist())\n",
    "\n",
    "    train_data = data[: int(len(data) * 0.7)]\n",
    "    val_data = data[int(len(data) * 0.7) : int(len(data) * 0.9)]\n",
    "    test_data = data[int(len(data) * 0.9) :]\n",
    "\n",
    "    # Create the train data if the saved file doesn't already exist\n",
    "\n",
    "    # Create an 70, 20, 10 train, validation, test split\n",
    "    train_data_str = tensor_to_string(train_data, decode)\n",
    "    val_data_str = tensor_to_string(val_data, decode)\n",
    "    test_data_str = tensor_to_string(test_data, decode)\n",
    "\n",
    "    # Save the data as a text file\n",
    "    save_data_as_txt(train_data_str, \"data/basic_data/decoded_train_data.txt\")\n",
    "    save_data_as_txt(val_data_str, \"data/basic_data/decoded_val_data.txt\")\n",
    "    save_data_as_txt(test_data_str, \"data/basic_data/decoded_test_data.txt\")\n",
    "\n",
    "else:\n",
    "    # Read in the data\n",
    "    with open(\"databasic_data/decoded_train_data.txt\", \"r\") as f:\n",
    "        train_data = f.read()\n",
    "    with open(\"data/basic_data/decoded_val_data.txt\", \"r\") as f:\n",
    "        val_data = f.read()\n",
    "    with open(\"data/basic_data/decoded_test_data.txt\", \"r\") as f:\n",
    "        test_data = f.read()\n",
    "\n",
    "    # Load the data into torch tensor\n",
    "    train_data = torch.tensor(encode(train_data), dtype=torch.long)\n",
    "    val_data = torch.tensor(encode(val_data), dtype=torch.long)\n",
    "    test_data = torch.tensor(encode(test_data), dtype=torch.long)"
   ],
   "metadata": {
    "collapsed": false,
    "ExecuteTime": {
     "start_time": "2023-04-25T10:47:21.600517Z",
     "end_time": "2023-04-25T10:47:21.653201Z"
    }
   }
  },
  {
   "cell_type": "code",
   "execution_count": 30,
   "outputs": [
    {
     "name": "stdout",
     "output_type": "stream",
     "text": [
      "when input is 'c' (tensor([4])), the target is:'['d']'(5)\n",
      "when input is 'cd' (tensor([4, 5])), the target is:'['c']'(4)\n",
      "when input is 'cdc' (tensor([4, 5, 4])), the target is:'['b']'(3)\n",
      "when input is 'cdcb' (tensor([4, 5, 4, 3])), the target is:'['c']'(4)\n",
      "when input is 'cdcbc' (tensor([4, 5, 4, 3, 4])), the target is:'['b']'(3)\n",
      "when input is 'cdcbcb' (tensor([4, 5, 4, 3, 4, 3])), the target is:'['\\n']'(0)\n",
      "when input is 'cdcbcb\n",
      "' (tensor([4, 5, 4, 3, 4, 3, 0])), the target is:'['c']'(4)\n",
      "when input is 'cdcbcb\n",
      "c' (tensor([4, 5, 4, 3, 4, 3, 0, 4])), the target is:'['b']'(3)\n"
     ]
    }
   ],
   "source": [
    "block_size = 8  # Arbitrary block size\n",
    "x = train_data[:block_size]\n",
    "y = train_data[1 : block_size + 1]\n",
    "for t in range(block_size):\n",
    "    context = x[: t + 1]\n",
    "    target = y[t]\n",
    "    print(\n",
    "        f\"when input is '{tensor_to_string(context, decode)}' ({context}), the target is:'{decode([target.tolist()])}'({target})\"\n",
    "    )\n",
    "\n",
    "# print(f\"when the input is {tensor_to_string(context, decode)} the target is: {decode([target.tolist()])}\")\n",
    "\n",
    "torch.manual_seed(6345789)\n",
    "batch_size = 4  # how many independent sequences to process in parallel?\n",
    "block_size = 8  # what is the maximum context length for predictions?"
   ],
   "metadata": {
    "collapsed": false,
    "ExecuteTime": {
     "start_time": "2023-04-25T10:47:21.614145Z",
     "end_time": "2023-04-25T10:47:21.654064Z"
    }
   }
  },
  {
   "cell_type": "code",
   "execution_count": 31,
   "outputs": [],
   "source": [
    "# Utility function for sampling a train, validation or test batch\n",
    "def get_batch(split: str) -> torch.Tensor:\n",
    "    \"\"\"Get a batch of data from the train, validation or test set.\"\"\"\n",
    "\n",
    "    if split == \"train\":\n",
    "        data = train_data\n",
    "    elif split == \"val\":\n",
    "        data = val_data\n",
    "    elif split == \"test\":\n",
    "        data = test_data\n",
    "    ix = torch.randint(len(data) - block_size, (batch_size,))\n",
    "    x = torch.stack([data[i : i + block_size] for i in ix])\n",
    "    y = torch.stack([data[i + 1 : i + block_size + 1] for i in ix])\n",
    "    return x, y"
   ],
   "metadata": {
    "collapsed": false,
    "ExecuteTime": {
     "start_time": "2023-04-25T10:47:21.625892Z",
     "end_time": "2023-04-25T10:47:21.654268Z"
    }
   }
  },
  {
   "cell_type": "code",
   "execution_count": 32,
   "outputs": [],
   "source": [
    "xb, yb = get_batch(\"train\")\n",
    "for b in range(batch_size):  # batch dimension\n",
    "    for t in range(block_size):  # time dimension\n",
    "        context = xb[b, : t + 1]\n",
    "        target = yb[b, t]\n",
    "        # print(f\"when input is {context.tolist()} the target: {target}\")"
   ],
   "metadata": {
    "collapsed": false,
    "ExecuteTime": {
     "start_time": "2023-04-25T10:47:21.631557Z",
     "end_time": "2023-04-25T10:47:21.654391Z"
    }
   }
  },
  {
   "cell_type": "code",
   "execution_count": 33,
   "outputs": [
    {
     "name": "stdout",
     "output_type": "stream",
     "text": [
      "torch.Size([32, 7])\n",
      "tensor(2.5592, grad_fn=<NllLossBackward0>)\n"
     ]
    }
   ],
   "source": [
    "# Initialize the model\n",
    "model = BigramModel(len(encoder_dict), len(encoder_dict))\n",
    "embeds, loss = model(idx=xb, target=yb)\n",
    "print(embeds.shape)\n",
    "print(loss)"
   ],
   "metadata": {
    "collapsed": false,
    "ExecuteTime": {
     "start_time": "2023-04-25T10:47:21.638242Z",
     "end_time": "2023-04-25T10:47:21.654623Z"
    }
   }
  },
  {
   "cell_type": "code",
   "execution_count": 34,
   "outputs": [
    {
     "name": "stdout",
     "output_type": "stream",
     "text": [
      "\n",
      "\n",
      "ccceacb\n",
      "dccccbacca\n",
      "d\n",
      "acc\n",
      "dcccb\n",
      "baaa\n",
      "\n",
      " e \n",
      "ccccccc\n",
      "d\n",
      "bbdc \n",
      "a dae ebe debaae eb\n",
      "dccbabe   de da\n",
      "d\n",
      "\n",
      "ccc\n",
      "---------------------------------\n"
     ]
    }
   ],
   "source": [
    "# Generate 100 characters\n",
    "chars = decode(\n",
    "    model.generate(idx=torch.zeros((1, 1), dtype=torch.long), length=100)[0].tolist()\n",
    ")\n",
    "# Join the characters together and then print the string\n",
    "print(\"\".join(chars))\n",
    "print(\"---------------------------------\")"
   ],
   "metadata": {
    "collapsed": false,
    "ExecuteTime": {
     "start_time": "2023-04-25T10:47:21.646520Z",
     "end_time": "2023-04-25T10:47:21.669575Z"
    }
   }
  },
  {
   "cell_type": "code",
   "execution_count": 35,
   "outputs": [
    {
     "data": {
      "text/plain": "<Figure size 640x480 with 1 Axes>",
      "image/png": "[encoded data removed]"
     },
     "metadata": {},
     "output_type": "display_data"
    }
   ],
   "source": [
    "# Generate 100 characters\n",
    "Optimiser = torch.optim.Adam(model.parameters(), lr=0.001)\n",
    "\n",
    "batch_size = 32\n",
    "losses = []\n",
    "num_steps = 10000\n",
    "for steps in range(num_steps):\n",
    "    # Get the batch of data\n",
    "    xb, yb = get_batch(\"train\")\n",
    "    # Zero the gradients\n",
    "    Optimiser.zero_grad()\n",
    "    # Get the embeddings and the loss\n",
    "    embeds, loss = model(idx=xb, target=yb)\n",
    "    # Backpropagate the loss\n",
    "    loss.backward()\n",
    "    # Take a step with the optimiser\n",
    "    Optimiser.step()\n",
    "    # Print the loss\n",
    "    losses.append(loss.item())\n",
    "    # if steps % 100 == 0:\n",
    "    #     print(f'Loss at step {steps}: {loss.item()}')\n",
    "    #     # generate 10 characters\n",
    "    #     model.eval()\n",
    "    #     chars = decode(model.generate(idx=torch.zeros((1, 1), dtype=torch.long), length=10)[0].tolist())\n",
    "    #     print(''.join(chars))\n",
    "    #     model.train()\n",
    "\n",
    "plt.plot(losses)\n",
    "plt.title(f\"Losses for the bigram model over {num_steps} steps\")\n",
    "plt.show()"
   ],
   "metadata": {
    "collapsed": false,
    "ExecuteTime": {
     "start_time": "2023-04-25T10:47:21.671496Z",
     "end_time": "2023-04-25T10:47:35.362913Z"
    }
   }
  },
  {
   "cell_type": "code",
   "execution_count": 36,
   "outputs": [
    {
     "name": "stdout",
     "output_type": "stream",
     "text": [
      "\n",
      "bacbb\n",
      "ddbe\n",
      "abe\n",
      "d\n",
      "bacdbbdb  cdcdcdabbe\n",
      "b bdcddbdcbaba e\n",
      "cbadbcbe\n",
      "bbbcdcb cde\n",
      "ba e\n",
      "dcd ae\n",
      "b  a ddbcde\n",
      "ae\n",
      "dcbd e\n",
      "a d\n",
      "db bdd ad  \n",
      "cd dcde\n",
      "e\n",
      "bbadaabdcbdcdcde\n",
      "cb ae\n",
      "db a cb be\n",
      "ade\n",
      "b cbe\n",
      "cb cbcbcdbbdbcbabcda \n",
      "addcde\n",
      "ae\n",
      "cde\n",
      "badddbcdcdda cbd acdbabbadcde\n",
      "bdcdcb\n",
      "acb cdabbaae\n",
      "cd\n",
      "dbcd\n",
      "b  cbe\n",
      "cde\n",
      "bcdcbadd\n",
      "bcbacbd\n",
      "d dd  ab  cbacd bbd\n",
      "de\n",
      "cbe\n",
      "cb\n",
      "bcddcba daae\n",
      "cb acdcdcdcbd\n",
      "cba  cb a bd dbabbcdbbcda dcdcb dbacda \n",
      "adbbaacbaaabdcbd e\n",
      "cdadcbbcbe\n",
      "bdba cdcb abbdcbb abb  cbb bacb bbe\n",
      "cbcb\n",
      "cbbe\n",
      "b cbe\n",
      "dcde\n",
      "ba bbdcba  cd \n",
      "ddaa e\n",
      "a b  e\n",
      "bd  a  acd e\n",
      "cdab \n",
      "b\n",
      "b dade\n",
      "b  e\n",
      "cbacdcd e\n",
      "cd d cbddd bbbe\n",
      "acdcbdabe\n",
      "cbe\n",
      "d\n",
      "acda   e\n",
      "dabcbb\n",
      "bacd de\n",
      "b dd ae\n",
      "dbbcdabcbcde\n",
      "ab\n",
      "dcd bbe\n",
      "b\n",
      "cbbbcbbcd bcdae\n",
      "cbb  bbbcde\n",
      "ab b\n",
      "ade\n",
      "ab\n",
      "ddd\n",
      "b\n",
      "ddbb bddaa bb\n",
      "ae\n",
      "bcbcddaaa d\n",
      "baba bcd\n",
      "dabe\n",
      "cdddbcdcbbbcdcd e\n",
      "bbdcb\n",
      "ab\n",
      "ab ae\n",
      "cd\n",
      "a d\n",
      "abbdb cbbdcdcdd\n",
      "cbc\n",
      "cdcb e\n",
      "ba b \n",
      "b ba cdbbaabe\n",
      "cb e\n",
      "cd cdabe\n",
      "cddda cd\n",
      "cbe\n",
      "cbcbbadaaddbcbe\n",
      "cddab cdcbbb \n",
      "adacdcbbd\n",
      "cdcb abcbcd\n",
      "cbaabcdcbcbcdaab b \n",
      "aab  e\n",
      "cdba cbe\n",
      "cb  dbbcb \n",
      "dadad bbaae\n",
      "dd\n",
      "aad \n",
      "dd\n",
      "cb cddbbe\n",
      "ba \n",
      "abd db  cd cb\n",
      "---------------------------------\n"
     ]
    }
   ],
   "source": [
    "# Now generate 100 characters\n",
    "chars = decode(\n",
    "    model.generate(idx=torch.zeros((1, 1), dtype=torch.long), length=1000)[0].tolist()\n",
    ")\n",
    "# Join the characters together and then print the string\n",
    "print(\"\".join(chars))\n",
    "print(\"---------------------------------\")"
   ],
   "metadata": {
    "collapsed": false,
    "ExecuteTime": {
     "start_time": "2023-04-25T10:47:35.366863Z",
     "end_time": "2023-04-25T10:47:35.505041Z"
    }
   }
  }
 ],
 "metadata": {
  "kernelspec": {
   "display_name": "Python 3",
   "language": "python",
   "name": "python3"
  },
  "language_info": {
   "codemirror_mode": {
    "name": "ipython",
    "version": 2
   },
   "file_extension": ".py",
   "mimetype": "text/x-python",
   "name": "python",
   "nbconvert_exporter": "python",
   "pygments_lexer": "ipython2",
   "version": "2.7.6"
  }
 },
 "nbformat": 4,
 "nbformat_minor": 0
}
